{
 "cells": [
  {
   "cell_type": "code",
   "execution_count": 2,
   "metadata": {},
   "outputs": [
    {
     "name": "stdout",
     "output_type": "stream",
     "text": [
      "Enter comma separated numbers: 33,44,55,66,77,88,99,11,22,4,5,6,7,8,9,13,16,19\n",
      "List :  ['33', '44', '55', '66', '77', '88', '99', '11', '22', '4', '5', '6', '7', '8', '9', '13', '16', '19']\n"
     ]
    }
   ],
   "source": [
    "#Assignment to print comma separated numbers in list\n",
    "\n",
    "Number=input(\"Enter comma separated numbers: \")\n",
    "\n",
    "list=Number.split(\",\")\n",
    "\n",
    "print('List : ',list)"
   ]
  }
 ],
 "metadata": {
  "kernelspec": {
   "display_name": "Python 3",
   "language": "python",
   "name": "python3"
  },
  "language_info": {
   "codemirror_mode": {
    "name": "ipython",
    "version": 3
   },
   "file_extension": ".py",
   "mimetype": "text/x-python",
   "name": "python",
   "nbconvert_exporter": "python",
   "pygments_lexer": "ipython3",
   "version": "3.6.3"
  }
 },
 "nbformat": 4,
 "nbformat_minor": 2
}
